{
 "cells": [
  {
   "cell_type": "code",
   "execution_count": 1,
   "metadata": {},
   "outputs": [
    {
     "name": "stderr",
     "output_type": "stream",
     "text": [
      "/home/linneamw/sadow_koastore/personal/linneamw/anaconda3/envs/mag_diff/lib/python3.12/site-packages/tqdm/auto.py:21: TqdmWarning: IProgress not found. Please update jupyter and ipywidgets. See https://ipywidgets.readthedocs.io/en/stable/user_install.html\n",
      "  from .autonotebook import tqdm as notebook_tqdm\n"
     ]
    },
    {
     "data": {
      "text/plain": [
       "<torch.autograd.anomaly_mode.set_detect_anomaly at 0x14c9465e4740>"
      ]
     },
     "execution_count": 1,
     "metadata": {},
     "output_type": "execute_result"
    }
   ],
   "source": [
    "import importlib\n",
    "import data_utils\n",
    "importlib.reload(data_utils)\n",
    "from data_utils import PhonemeDataset\n",
    "from mlp_mixer import MLPMixer\n",
    "\n",
    "import numpy as np\n",
    "import torch \n",
    "from torch.utils.data import DataLoader\n",
    "import torchvision.transforms.v2 as transforms\n",
    "\n",
    "import pytorch_lightning as pl\n",
    "from lightning import Trainer\n",
    "from lightning.pytorch.loggers import TensorBoardLogger\n",
    "from lightning.pytorch.callbacks import EarlyStopping, LearningRateMonitor\n",
    "\n",
    "torch.autograd.set_detect_anomaly(True)"
   ]
  },
  {
   "cell_type": "markdown",
   "metadata": {},
   "source": [
    "# Load data"
   ]
  },
  {
   "cell_type": "code",
   "execution_count": 2,
   "metadata": {},
   "outputs": [
    {
     "name": "stdout",
     "output_type": "stream",
     "text": [
      "Shape of X (batch, channels, timesteps): torch.Size([128, 11, 220]), shape of labels: 128\n"
     ]
    }
   ],
   "source": [
    "transform = None\n",
    "batch_size = 128\n",
    "\n",
    "train_loader = DataLoader(\n",
    "    PhonemeDataset(\n",
    "        data_filename='../Data/Phoneme/train_X.npy',\n",
    "        label_filename='../Data/Phoneme/train_y.npy',\n",
    "        transform=transform\n",
    "    ), \n",
    "    batch_size=batch_size, \n",
    "    shuffle=True\n",
    ")\n",
    "\n",
    "val_loader = DataLoader(\n",
    "    PhonemeDataset(\n",
    "        data_filename='../Data/Phoneme/valid_X.npy',\n",
    "        label_filename='../Data/Phoneme/valid_y.npy',\n",
    "        transform=None\n",
    "    ), \n",
    "    batch_size=batch_size, \n",
    "    shuffle=False\n",
    ")\n",
    "\n",
    "test_loader = DataLoader(\n",
    "    PhonemeDataset(\n",
    "        data_filename='../Data/Phoneme/test_X.npy',\n",
    "        label_filename='../Data/Phoneme/test_y.npy',\n",
    "        transform=None\n",
    "    ), \n",
    "    batch_size=batch_size, \n",
    "    shuffle=False\n",
    ")\n",
    "\n",
    "# Check a batch of train data\n",
    "for X, y in train_loader:\n",
    "    print(f\"Shape of X (batch, channels, timesteps): {X.shape}, shape of labels: {len(y)}\")\n",
    "    break"
   ]
  },
  {
   "cell_type": "markdown",
   "metadata": {},
   "source": [
    "# Create mlp-mixer model"
   ]
  },
  {
   "cell_type": "code",
   "execution_count": 3,
   "metadata": {},
   "outputs": [],
   "source": [
    "padded_length = 220\n",
    "num_classes = 39\n",
    "p_dropout = 0.5\n",
    "# patch_class options are: \"sequential1d\", \"random1d\", \"cyclical1d\"\n",
    "patch_class = \"cyclical1d\"\n",
    "patch_size = 5\n",
    "hidden_dim = 16\n",
    "num_blocks = 1\n",
    "tokens_mlp_dim = 250\n",
    "channels_mlp_dim = 1610\n",
    "lr = 1.4e-4\n",
    "\n",
    "mixer = MLPMixer(\n",
    "    padded_length=padded_length,\n",
    "    num_classes=num_classes,\n",
    "    p_dropout=p_dropout,\n",
    "    patch_class=patch_class,\n",
    "    patch_size=patch_size,\n",
    "    hidden_dim=hidden_dim,\n",
    "    num_blocks=num_blocks,\n",
    "    tokens_mlp_dim=tokens_mlp_dim,\n",
    "    channels_mlp_dim=channels_mlp_dim,\n",
    "    lr = lr\n",
    ")"
   ]
  },
  {
   "cell_type": "code",
   "execution_count": 4,
   "metadata": {},
   "outputs": [
    {
     "name": "stderr",
     "output_type": "stream",
     "text": [
      "GPU available: True (cuda), used: True\n",
      "TPU available: False, using: 0 TPU cores\n",
      "IPU available: False, using: 0 IPUs\n",
      "HPU available: False, using: 0 HPUs\n",
      "/home/linneamw/sadow_koastore/personal/linneamw/anaconda3/envs/mag_diff/lib/python3.12/site-packages/lightning/pytorch/trainer/connectors/logger_connector/logger_connector.py:75: Starting from v1.9.0, `tensorboardX` has been removed as a dependency of the `lightning.pytorch` package, due to potential conflicts with other packages in the ML ecosystem. For this reason, `logger=True` will use `CSVLogger` as the default logger, unless the `tensorboard` or `tensorboardX` packages are found. Please `pip install lightning[extra]` or one of them to enable TensorBoard support by default\n",
      "LOCAL_RANK: 0 - CUDA_VISIBLE_DEVICES: [0]\n",
      "\n",
      "  | Name         | Type             | Params\n",
      "--------------------------------------------------\n",
      "0 | loss         | CrossEntropyLoss | 0     \n",
      "1 | patching     | PatchingClass    | 896   \n",
      "2 | mixer_blocks | ModuleList       | 151 K \n",
      "3 | layer_norm   | LayerNorm        | 32    \n",
      "4 | mlp_head     | Sequential       | 663   \n",
      "5 | dropout      | Dropout          | 0     \n",
      "--------------------------------------------------\n",
      "153 K     Trainable params\n",
      "0         Non-trainable params\n",
      "153 K     Total params\n",
      "0.613     Total estimated model params size (MB)\n",
      "SLURM auto-requeueing enabled. Setting signal handlers.\n"
     ]
    },
    {
     "name": "stdout",
     "output_type": "stream",
     "text": [
      "                                                                           "
     ]
    },
    {
     "name": "stderr",
     "output_type": "stream",
     "text": [
      "/home/linneamw/sadow_koastore/personal/linneamw/anaconda3/envs/mag_diff/lib/python3.12/site-packages/lightning/pytorch/loops/fit_loop.py:298: The number of training batches (26) is smaller than the logging interval Trainer(log_every_n_steps=50). Set a lower value for log_every_n_steps if you want to see logs for the training epoch.\n"
     ]
    },
    {
     "name": "stdout",
     "output_type": "stream",
     "text": [
      "Epoch 6: 100%|██████████| 26/26 [00:03<00:00,  8.12it/s, v_num=769, train_loss_step=3.620, val_loss=3.630, val_acc=0.0328, collapse_flg_val=4.96e+3, train_loss_epoch=3.650, train_acc=0.0317, collapse_flg_train=4.97e+3]"
     ]
    },
    {
     "name": "stdout",
     "output_type": "stream",
     "text": [
      "Epoch 107: 100%|██████████| 26/26 [00:05<00:00,  4.59it/s, v_num=769, train_loss_step=3.150, val_loss=3.430, val_acc=0.0865, collapse_flg_val=4.96e+3, train_loss_epoch=3.140, train_acc=0.137, collapse_flg_train=4.97e+3]\n"
     ]
    }
   ],
   "source": [
    "callbacks = [EarlyStopping(monitor=\"val_loss\", patience=25, mode=\"min\")]\n",
    "\n",
    "mixer_trainer = Trainer(\n",
    "    max_epochs=1000,\n",
    "    callbacks=callbacks\n",
    ")\n",
    "\n",
    "mixer_trainer.fit(\n",
    "    model=mixer, \n",
    "    train_dataloaders=train_loader,\n",
    "    val_dataloaders=val_loader\n",
    ")"
   ]
  },
  {
   "cell_type": "code",
   "execution_count": 5,
   "metadata": {},
   "outputs": [
    {
     "name": "stderr",
     "output_type": "stream",
     "text": [
      "/home/linneamw/sadow_koastore/personal/linneamw/anaconda3/envs/mag_diff/lib/python3.12/site-packages/lightning/pytorch/trainer/connectors/checkpoint_connector.py:145: `.test(ckpt_path=None)` was called without a model. The best model of the previous `fit` call will be used. You can pass `.test(ckpt_path='best')` to use the best model or `.test(ckpt_path='last')` to use the last model. If you pass a value, this warning will be silenced.\n",
      "Restoring states from the checkpoint path at /mnt/lustre/koa/koastore/sadow_group/shared/EE645/mlp-mixer-1d-classification/lightning_logs/version_769/checkpoints/epoch=107-step=2808.ckpt\n",
      "LOCAL_RANK: 0 - CUDA_VISIBLE_DEVICES: [0]\n",
      "Loaded model weights from the checkpoint at /mnt/lustre/koa/koastore/sadow_group/shared/EE645/mlp-mixer-1d-classification/lightning_logs/version_769/checkpoints/epoch=107-step=2808.ckpt\n",
      "SLURM auto-requeueing enabled. Setting signal handlers.\n"
     ]
    },
    {
     "name": "stdout",
     "output_type": "stream",
     "text": [
      "Testing DataLoader 0: 100%|██████████| 14/14 [00:01<00:00, 10.61it/s]\n",
      "────────────────────────────────────────────────────────────────────────────────────────────────────────────────────────\n",
      "       Test metric             DataLoader 0\n",
      "────────────────────────────────────────────────────────────────────────────────────────────────────────────────────────\n",
      "        test_acc            0.07935560494661331\n",
      "        test_loss           3.4643778800964355\n",
      "────────────────────────────────────────────────────────────────────────────────────────────────────────────────────────\n"
     ]
    },
    {
     "data": {
      "text/plain": [
       "[{'test_loss': 3.4643778800964355, 'test_acc': 0.07935560494661331}]"
      ]
     },
     "execution_count": 5,
     "metadata": {},
     "output_type": "execute_result"
    }
   ],
   "source": [
    "# Test\n",
    "mixer_trainer.test(\n",
    "    dataloaders=test_loader\n",
    ")"
   ]
  },
  {
   "cell_type": "code",
   "execution_count": null,
   "metadata": {},
   "outputs": [],
   "source": []
  }
 ],
 "metadata": {
  "kernelspec": {
   "display_name": "mag_diff",
   "language": "python",
   "name": "python3"
  },
  "language_info": {
   "codemirror_mode": {
    "name": "ipython",
    "version": 3
   },
   "file_extension": ".py",
   "mimetype": "text/x-python",
   "name": "python",
   "nbconvert_exporter": "python",
   "pygments_lexer": "ipython3",
   "version": "3.12.2"
  }
 },
 "nbformat": 4,
 "nbformat_minor": 4
}
