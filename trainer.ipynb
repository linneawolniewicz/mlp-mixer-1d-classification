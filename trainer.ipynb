{
 "cells": [
  {
   "cell_type": "code",
   "execution_count": 1,
   "metadata": {},
   "outputs": [
    {
     "name": "stderr",
     "output_type": "stream",
     "text": [
      "/home/linneamw/sadow_koastore/personal/linneamw/anaconda3/envs/mag_diff/lib/python3.12/site-packages/tqdm/auto.py:21: TqdmWarning: IProgress not found. Please update jupyter and ipywidgets. See https://ipywidgets.readthedocs.io/en/stable/user_install.html\n",
      "  from .autonotebook import tqdm as notebook_tqdm\n"
     ]
    },
    {
     "data": {
      "text/plain": [
       "<torch.autograd.anomaly_mode.set_detect_anomaly at 0x14ae453848f0>"
      ]
     },
     "execution_count": 1,
     "metadata": {},
     "output_type": "execute_result"
    }
   ],
   "source": [
    "import importlib\n",
    "import data_utils\n",
    "importlib.reload(data_utils)\n",
    "from data_utils import PhonemeDataset\n",
    "from mlp_mixer import MLPMixer\n",
    "\n",
    "import numpy as np\n",
    "import torch \n",
    "from torch.utils.data import DataLoader\n",
    "import torchvision.transforms.v2 as transforms\n",
    "\n",
    "import pytorch_lightning as pl\n",
    "from lightning import Trainer\n",
    "from lightning.pytorch.loggers import TensorBoardLogger\n",
    "from lightning.pytorch.callbacks import EarlyStopping, LearningRateMonitor\n",
    "\n",
    "torch.autograd.set_detect_anomaly(True)"
   ]
  },
  {
   "cell_type": "markdown",
   "metadata": {},
   "source": [
    "# Load data"
   ]
  },
  {
   "cell_type": "code",
   "execution_count": 6,
   "metadata": {},
   "outputs": [
    {
     "name": "stdout",
     "output_type": "stream",
     "text": [
      "Shape of X (batch, channels, timesteps): torch.Size([64, 11, 220]), shape of labels: 64\n"
     ]
    }
   ],
   "source": [
    "transform = None\n",
    "batch_size = 64\n",
    "\n",
    "train_loader = DataLoader(\n",
    "    PhonemeDataset(\n",
    "        data_filename='../Data/Phoneme/train_X.npy',\n",
    "        label_filename='../Data/Phoneme/train_y.npy',\n",
    "        transform=transform\n",
    "    ), \n",
    "    batch_size=batch_size, \n",
    "    shuffle=True\n",
    ")\n",
    "\n",
    "val_loader = DataLoader(\n",
    "    PhonemeDataset(\n",
    "        data_filename='../Data/Phoneme/valid_X.npy',\n",
    "        label_filename='../Data/Phoneme/valid_y.npy',\n",
    "        transform=None\n",
    "    ), \n",
    "    batch_size=batch_size, \n",
    "    shuffle=False\n",
    ")\n",
    "\n",
    "test_loader = DataLoader(\n",
    "    PhonemeDataset(\n",
    "        data_filename='../Data/Phoneme/test_X.npy',\n",
    "        label_filename='../Data/Phoneme/test_y.npy',\n",
    "        transform=None\n",
    "    ), \n",
    "    batch_size=batch_size, \n",
    "    shuffle=False\n",
    ")\n",
    "\n",
    "# Check a batch of train data\n",
    "for X, y in train_loader:\n",
    "    print(f\"Shape of X (batch, channels, timesteps): {X.shape}, shape of labels: {len(y)}\")\n",
    "    break"
   ]
  },
  {
   "cell_type": "markdown",
   "metadata": {},
   "source": [
    "# Create mlp-mixer model"
   ]
  },
  {
   "cell_type": "code",
   "execution_count": 7,
   "metadata": {},
   "outputs": [],
   "source": [
    "# patch_class options are: \"sequential1d\", \"random1d\", \"cyclical1d\"\n",
    "patch_class = \"sequential1d\"\n",
    "\n",
    "mixer = MLPMixer(\n",
    "    num_classes=39, \n",
    "    num_blocks=5, \n",
    "    patch_size=10, \n",
    "    hidden_dim=128, \n",
    "    patch_class='cyclical1d', \n",
    "    tokens_mlp_dim=64, \n",
    "    channels_mlp_dim=32, \n",
    "    padded_length=220,\n",
    "    p_dropout=0.5,\n",
    "    lr=3e-3\n",
    ")"
   ]
  },
  {
   "cell_type": "code",
   "execution_count": 8,
   "metadata": {},
   "outputs": [
    {
     "name": "stderr",
     "output_type": "stream",
     "text": [
      "GPU available: True (cuda), used: True\n",
      "TPU available: False, using: 0 TPU cores\n",
      "IPU available: False, using: 0 IPUs\n",
      "HPU available: False, using: 0 HPUs\n",
      "LOCAL_RANK: 0 - CUDA_VISIBLE_DEVICES: [0]\n",
      "\n",
      "  | Name         | Type             | Params\n",
      "--------------------------------------------------\n",
      "0 | loss         | CrossEntropyLoss | 0     \n",
      "1 | patching     | PatchingClass    | 14.2 K\n",
      "2 | mixer_blocks | ModuleList       | 92.8 K\n",
      "3 | layer_norm   | LayerNorm        | 256   \n",
      "4 | mlp_head     | Sequential       | 5.0 K \n",
      "5 | dropout      | Dropout          | 0     \n",
      "--------------------------------------------------\n",
      "112 K     Trainable params\n",
      "0         Non-trainable params\n",
      "112 K     Total params\n",
      "0.449     Total estimated model params size (MB)\n",
      "SLURM auto-requeueing enabled. Setting signal handlers.\n"
     ]
    },
    {
     "name": "stdout",
     "output_type": "stream",
     "text": [
      "Sanity Checking DataLoader 0:   0%|          | 0/2 [00:00<?, ?it/s]"
     ]
    },
    {
     "name": "stdout",
     "output_type": "stream",
     "text": [
      "Epoch 99: 100%|██████████| 52/52 [00:07<00:00,  7.19it/s, v_num=25, train_loss_step=0.0697, val_loss=14.10, val_acc=0.104, collapse_flg_val=2.48e+3, train_loss_epoch=0.0663, train_acc=0.980, collapse_flg_train=2.49e+3]  "
     ]
    },
    {
     "name": "stderr",
     "output_type": "stream",
     "text": [
      "`Trainer.fit` stopped: `max_epochs=100` reached.\n"
     ]
    },
    {
     "name": "stdout",
     "output_type": "stream",
     "text": [
      "Epoch 99: 100%|██████████| 52/52 [00:07<00:00,  7.14it/s, v_num=25, train_loss_step=0.0697, val_loss=14.10, val_acc=0.104, collapse_flg_val=2.48e+3, train_loss_epoch=0.0663, train_acc=0.980, collapse_flg_train=2.49e+3]\n"
     ]
    }
   ],
   "source": [
    "callbacks = [EarlyStopping(monitor=\"val_loss\", patience=10, mode=\"min\")]\n",
    "\n",
    "mixer_trainer = Trainer(max_epochs=100)\n",
    "\n",
    "mixer_trainer.fit(\n",
    "    model=mixer, \n",
    "    train_dataloaders=train_loader,\n",
    "    val_dataloaders=val_loader,\n",
    "    callbacks=callbacks\n",
    ")"
   ]
  },
  {
   "cell_type": "code",
   "execution_count": 10,
   "metadata": {},
   "outputs": [
    {
     "name": "stderr",
     "output_type": "stream",
     "text": [
      "/home/linneamw/sadow_koastore/personal/linneamw/anaconda3/envs/mag_diff/lib/python3.12/site-packages/lightning/pytorch/trainer/connectors/checkpoint_connector.py:145: `.test(ckpt_path=None)` was called without a model. The best model of the previous `fit` call will be used. You can pass `.test(ckpt_path='best')` to use the best model or `.test(ckpt_path='last')` to use the last model. If you pass a value, this warning will be silenced.\n",
      "Restoring states from the checkpoint path at /mnt/lustre/koa/koastore/sadow_group/shared/EE645/mlp-mixer-1d-classification/lightning_logs/version_25/checkpoints/epoch=99-step=5200.ckpt\n",
      "LOCAL_RANK: 0 - CUDA_VISIBLE_DEVICES: [0]\n",
      "Loaded model weights from the checkpoint at /mnt/lustre/koa/koastore/sadow_group/shared/EE645/mlp-mixer-1d-classification/lightning_logs/version_25/checkpoints/epoch=99-step=5200.ckpt\n",
      "SLURM auto-requeueing enabled. Setting signal handlers.\n"
     ]
    },
    {
     "name": "stdout",
     "output_type": "stream",
     "text": [
      "Testing DataLoader 0:   0%|          | 0/27 [00:00<?, ?it/s]"
     ]
    },
    {
     "name": "stdout",
     "output_type": "stream",
     "text": [
      "Testing DataLoader 0: 100%|██████████| 27/27 [00:02<00:00, 12.62it/s]\n",
      "────────────────────────────────────────────────────────────────────────────────────────────────────────────────────────\n",
      "       Test metric             DataLoader 0\n",
      "────────────────────────────────────────────────────────────────────────────────────────────────────────────────────────\n",
      "        test_acc            0.10023866593837738\n",
      "        test_loss           14.173046112060547\n",
      "────────────────────────────────────────────────────────────────────────────────────────────────────────────────────────\n"
     ]
    },
    {
     "data": {
      "text/plain": [
       "[{'test_loss': 14.173046112060547, 'test_acc': 0.10023866593837738}]"
      ]
     },
     "execution_count": 10,
     "metadata": {},
     "output_type": "execute_result"
    }
   ],
   "source": [
    "# Test\n",
    "mixer_trainer.test(\n",
    "    dataloaders=test_loader\n",
    ")"
   ]
  },
  {
   "cell_type": "code",
   "execution_count": null,
   "metadata": {},
   "outputs": [],
   "source": []
  }
 ],
 "metadata": {
  "kernelspec": {
   "display_name": "mag_diff",
   "language": "python",
   "name": "python3"
  },
  "language_info": {
   "codemirror_mode": {
    "name": "ipython",
    "version": 3
   },
   "file_extension": ".py",
   "mimetype": "text/x-python",
   "name": "python",
   "nbconvert_exporter": "python",
   "pygments_lexer": "ipython3",
   "version": "3.12.2"
  }
 },
 "nbformat": 4,
 "nbformat_minor": 4
}
