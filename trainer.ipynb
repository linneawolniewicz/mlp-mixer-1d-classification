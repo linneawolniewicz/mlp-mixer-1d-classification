{
 "cells": [
  {
   "cell_type": "code",
   "execution_count": 1,
   "metadata": {},
   "outputs": [
    {
     "name": "stderr",
     "output_type": "stream",
     "text": [
      "/home/abunnell/.conda/envs/torch_scipy/lib/python3.12/site-packages/tqdm/auto.py:21: TqdmWarning: IProgress not found. Please update jupyter and ipywidgets. See https://ipywidgets.readthedocs.io/en/stable/user_install.html\n",
      "  from .autonotebook import tqdm as notebook_tqdm\n"
     ]
    },
    {
     "data": {
      "text/plain": [
       "<torch.autograd.anomaly_mode.set_detect_anomaly at 0x153b8970be60>"
      ]
     },
     "execution_count": 1,
     "metadata": {},
     "output_type": "execute_result"
    }
   ],
   "source": [
    "import importlib\n",
    "import data_utils\n",
    "importlib.reload(data_utils)\n",
    "from data_utils import PhonemeDataset\n",
    "from mlp_mixer import MLPMixer\n",
    "\n",
    "import numpy as np\n",
    "import torch \n",
    "from torch.utils.data import DataLoader\n",
    "import torchvision.transforms.v2 as transforms\n",
    "\n",
    "import pytorch_lightning as pl\n",
    "from lightning import Trainer\n",
    "from lightning.pytorch.loggers import TensorBoardLogger\n",
    "from lightning.pytorch.callbacks import EarlyStopping, LearningRateMonitor\n",
    "\n",
    "torch.autograd.set_detect_anomaly(True)"
   ]
  },
  {
   "cell_type": "markdown",
   "metadata": {},
   "source": [
    "# Load data"
   ]
  },
  {
   "cell_type": "code",
   "execution_count": 2,
   "metadata": {},
   "outputs": [
    {
     "name": "stdout",
     "output_type": "stream",
     "text": [
      "Shape of X (batch, channels, timesteps): torch.Size([32, 11, 220]), shape of labels: 32\n"
     ]
    }
   ],
   "source": [
    "transform = None\n",
    "batch_size = 32\n",
    "\n",
    "train_loader = DataLoader(\n",
    "    PhonemeDataset(\n",
    "        data_filename='Data/Phoneme/train_X.npy',\n",
    "        label_filename='Data/Phoneme/train_y.npy',\n",
    "        transform=transform\n",
    "    ), \n",
    "    batch_size=batch_size, \n",
    "    shuffle=True\n",
    ")\n",
    "\n",
    "val_loader = DataLoader(\n",
    "    PhonemeDataset(\n",
    "        data_filename='Data/Phoneme/valid_X.npy',\n",
    "        label_filename='Data/Phoneme/valid_y.npy',\n",
    "        transform=None\n",
    "    ), \n",
    "    batch_size=batch_size, \n",
    "    shuffle=False\n",
    ")\n",
    "\n",
    "test_loader = DataLoader(\n",
    "    PhonemeDataset(\n",
    "        data_filename='Data/Phoneme/test_X.npy',\n",
    "        label_filename='Data/Phoneme/test_y.npy',\n",
    "        transform=None\n",
    "    ), \n",
    "    batch_size=batch_size, \n",
    "    shuffle=False\n",
    ")\n",
    "\n",
    "# Check a batch of train data\n",
    "for X, y in train_loader:\n",
    "    print(f\"Shape of X (batch, channels, timesteps): {X.shape}, shape of labels: {len(y)}\")\n",
    "    break"
   ]
  },
  {
   "cell_type": "markdown",
   "metadata": {},
   "source": [
    "# Create mlp-mixer model"
   ]
  },
  {
   "cell_type": "code",
   "execution_count": 3,
   "metadata": {},
   "outputs": [],
   "source": [
    "# patch_class options are: \"sequential1d\", \"random1d\", \"cyclical1d\"\n",
    "# patch_class options are: \"sequential1d\", \"random1d\", \"cyclical1d\"\n",
    "patch_class = \"sequential1d\"\n",
    "\n",
    "mixer = MLPMixer(num_classes=39, num_blocks=5, patch_size=10, hidden_dim=128, \n",
    "                 patch_class='cyclical1d', tokens_mlp_dim=64, channels_mlp_dim=32, padded_length=220)\n",
    "\n",
    "x = torch.randn(32, 11, 220)\n",
    "\n",
    "v = mixer(x)"
   ]
  },
  {
   "cell_type": "code",
   "execution_count": 4,
   "metadata": {},
   "outputs": [
    {
     "name": "stderr",
     "output_type": "stream",
     "text": [
      "GPU available: True (cuda), used: True\n",
      "TPU available: False, using: 0 TPU cores\n",
      "IPU available: False, using: 0 IPUs\n",
      "HPU available: False, using: 0 HPUs\n",
      "/home/abunnell/.conda/envs/torch_scipy/lib/python3.12/site-packages/lightning/pytorch/trainer/connectors/logger_connector/logger_connector.py:75: Starting from v1.9.0, `tensorboardX` has been removed as a dependency of the `lightning.pytorch` package, due to potential conflicts with other packages in the ML ecosystem. For this reason, `logger=True` will use `CSVLogger` as the default logger, unless the `tensorboard` or `tensorboardX` packages are found. Please `pip install lightning[extra]` or one of them to enable TensorBoard support by default\n",
      "/home/abunnell/.conda/envs/torch_scipy/lib/python3.12/site-packages/lightning/pytorch/loops/utilities.py:73: `max_epochs` was not set. Setting it to 1000 epochs. To train without an epoch limit, set `max_epochs=-1`.\n",
      "/home/abunnell/.conda/envs/torch_scipy/lib/python3.12/site-packages/lightning/pytorch/trainer/configuration_validator.py:74: You defined a `validation_step` but have no `val_dataloader`. Skipping val loop.\n",
      "You are using a CUDA device ('NVIDIA RTX A4000') that has Tensor Cores. To properly utilize them, you should set `torch.set_float32_matmul_precision('medium' | 'high')` which will trade-off precision for performance. For more details, read https://pytorch.org/docs/stable/generated/torch.set_float32_matmul_precision.html#torch.set_float32_matmul_precision\n",
      "LOCAL_RANK: 0 - CUDA_VISIBLE_DEVICES: [0]\n",
      "\n",
      "  | Name         | Type             | Params\n",
      "--------------------------------------------------\n",
      "0 | loss         | CrossEntropyLoss | 0     \n",
      "1 | patching     | PatchingClass    | 14.2 K\n",
      "2 | mixer_blocks | ModuleList       | 92.8 K\n",
      "3 | layer_norm   | LayerNorm        | 256   \n",
      "4 | mlp_head     | Sequential       | 5.0 K \n",
      "--------------------------------------------------\n",
      "112 K     Trainable params\n",
      "0         Non-trainable params\n",
      "112 K     Total params\n",
      "0.449     Total estimated model params size (MB)\n",
      "SLURM auto-requeueing enabled. Setting signal handlers.\n",
      "/home/abunnell/.conda/envs/torch_scipy/lib/python3.12/site-packages/lightning/pytorch/trainer/connectors/data_connector.py:441: The 'train_dataloader' does not have many workers which may be a bottleneck. Consider increasing the value of the `num_workers` argument` to `num_workers=3` in the `DataLoader` to improve performance.\n"
     ]
    },
    {
     "name": "stdout",
     "output_type": "stream",
     "text": [
      "Epoch 6:  11%|█         | 11/104 [00:00<00:02, 46.07it/s, v_num=17, train_loss_step=2.930, train_loss_epoch=3.230, train_acc=0.102, collapse_flg_train=1.25e+3]  "
     ]
    },
    {
     "name": "stderr",
     "output_type": "stream",
     "text": [
      "/home/abunnell/.conda/envs/torch_scipy/lib/python3.12/site-packages/lightning/pytorch/trainer/call.py:54: Detected KeyboardInterrupt, attempting graceful shutdown...\n"
     ]
    }
   ],
   "source": [
    "mixer_trainer = Trainer()\n",
    "mixer_trainer.fit(model=mixer, train_dataloaders=train_loader)"
   ]
  }
 ],
 "metadata": {
  "kernelspec": {
   "display_name": "mlp_mixer",
   "language": "python",
   "name": "mlp_mixer"
  },
  "language_info": {
   "codemirror_mode": {
    "name": "ipython",
    "version": 3
   },
   "file_extension": ".py",
   "mimetype": "text/x-python",
   "name": "python",
   "nbconvert_exporter": "python",
   "pygments_lexer": "ipython3",
   "version": "3.12.2"
  }
 },
 "nbformat": 4,
 "nbformat_minor": 4
}
