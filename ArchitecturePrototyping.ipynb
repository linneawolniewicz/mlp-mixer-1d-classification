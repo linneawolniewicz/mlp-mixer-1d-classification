{
 "cells": [
  {
   "cell_type": "markdown",
   "id": "508f60fb-f27d-4eb0-9311-bebdedf5389e",
   "metadata": {},
   "source": [
    "Architecture Prototyping"
   ]
  },
  {
   "cell_type": "code",
   "execution_count": 3,
   "id": "a84e1d1d-4908-40e4-a51b-225dc7738e4b",
   "metadata": {},
   "outputs": [],
   "source": [
    "import torch.nn as nn \n",
    "import numpy as np"
   ]
  },
  {
   "cell_type": "code",
   "execution_count": 2,
   "id": "a3ec9383-88ee-406b-89f8-d3cca0b3de59",
   "metadata": {},
   "outputs": [],
   "source": [
    "class Patch1D(nn.Module):\n",
    "    def __init__(self, patch_size, output_size):\n",
    "        super(Patch1D, self).__init__()\n",
    "        self.input_size = input_size\n",
    "        self.output_size = output_size\n",
    "        \n",
    "        # Define your layer parameters here\n",
    "        self.weight = nn.Parameter(torch.randn(input_size, output_size))\n",
    "        self.bias = nn.Parameter(torch.zeros(output_size))\n",
    "\n",
    "    def forward(self, x):\n",
    "        # Define the forward pass of your layer here\n",
    "        # Perform any computations using the layer parameters\n",
    "        # You can use torch operations like torch.matmul, torch.nn.functional.relu, etc.\n",
    "        out = torch.matmul(x, self.weight) + self.bias\n",
    "        return out"
   ]
  }
 ],
 "metadata": {
  "kernelspec": {
   "display_name": "mlp_mixer",
   "language": "python",
   "name": "mlp_mixer"
  },
  "language_info": {
   "codemirror_mode": {
    "name": "ipython",
    "version": 3
   },
   "file_extension": ".py",
   "mimetype": "text/x-python",
   "name": "python",
   "nbconvert_exporter": "python",
   "pygments_lexer": "ipython3",
   "version": "3.12.2"
  }
 },
 "nbformat": 4,
 "nbformat_minor": 5
}
